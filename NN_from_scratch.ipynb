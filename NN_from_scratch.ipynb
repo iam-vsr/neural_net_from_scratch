{
  "nbformat": 4,
  "nbformat_minor": 0,
  "metadata": {
    "colab": {
      "provenance": [],
      "gpuType": "T4"
    },
    "kernelspec": {
      "name": "python3",
      "display_name": "Python 3"
    },
    "language_info": {
      "name": "python"
    },
    "accelerator": "GPU"
  },
  "cells": [
    {
      "cell_type": "markdown",
      "source": [
        "# **Importing Libraries**"
      ],
      "metadata": {
        "id": "c8_LriLVTvy6"
      }
    },
    {
      "cell_type": "code",
      "execution_count": 1,
      "metadata": {
        "id": "a_tau7xTJ5OL"
      },
      "outputs": [],
      "source": [
        "import numpy as np\n",
        "import pandas as pd\n",
        "from keras.datasets import mnist\n",
        "from matplotlib import pyplot as plt"
      ]
    },
    {
      "cell_type": "markdown",
      "source": [
        "# **Preprocessing MNIST dataset**"
      ],
      "metadata": {
        "id": "y_FnBBZNT1Vx"
      }
    },
    {
      "cell_type": "markdown",
      "source": [
        "***Load and Preprocess the Data***\n",
        "\n",
        "We load the **MNIST handwritten digit dataset**, which contains grayscale images of size `28×28`.\n",
        "\n",
        "- Flatten each image into a `784`-dimensional vector\n",
        "- Normalize pixel values to range `[0, 1]` for better training\n"
      ],
      "metadata": {
        "id": "hl8mHGhrnQoX"
      }
    },
    {
      "cell_type": "code",
      "source": [
        "(X_train, y_train), (X_test, y_test) = mnist.load_data()\n",
        "X_train = X_train.reshape(-1,28*28)/255.0\n",
        "X_test = X_test.reshape(-1,28*28)/255.0\n",
        "(X_train.shape,X_test.shape)"
      ],
      "metadata": {
        "colab": {
          "base_uri": "https://localhost:8080/"
        },
        "id": "szsWRWTlLmUM",
        "outputId": "87a15bc7-5c8b-4f75-8966-511cd9aec3f3"
      },
      "execution_count": 2,
      "outputs": [
        {
          "output_type": "stream",
          "name": "stdout",
          "text": [
            "Downloading data from https://storage.googleapis.com/tensorflow/tf-keras-datasets/mnist.npz\n",
            "\u001b[1m11490434/11490434\u001b[0m \u001b[32m━━━━━━━━━━━━━━━━━━━━\u001b[0m\u001b[37m\u001b[0m \u001b[1m0s\u001b[0m 0us/step\n"
          ]
        },
        {
          "output_type": "execute_result",
          "data": {
            "text/plain": [
              "((60000, 784), (10000, 784))"
            ]
          },
          "metadata": {},
          "execution_count": 2
        }
      ]
    },
    {
      "cell_type": "markdown",
      "source": [
        "***One-Hot Encode the Labels***\n",
        "\n",
        "We convert the target labels (digits 0–9) into **one-hot encoded vectors** so they can be used with our output layer (which has 10 neurons).\n",
        "\n",
        "- Turns a digit like `5` into: `[0, 0, 0, 0, 0, 1, 0, 0, 0, 0]`\n",
        "- Required for computing loss during training\n",
        "\n"
      ],
      "metadata": {
        "id": "6SIQ8EYVpQXT"
      }
    },
    {
      "cell_type": "code",
      "source": [
        "y_train_oh = np.zeros((y_train.shape[0], 10))\n",
        "y_train_oh[np.arange(y_train.shape[0]), y_train] = 1\n",
        "y_test_oh = np.zeros((y_test.shape[0], 10))\n",
        "y_test_oh[np.arange(y_test.shape[0]), y_test] = 1\n",
        "(y_train_oh.shape,y_test_oh.shape)"
      ],
      "metadata": {
        "colab": {
          "base_uri": "https://localhost:8080/"
        },
        "id": "2stsRLruMLpg",
        "outputId": "2bc57785-bd5c-47d0-b4c1-24757d4bb163"
      },
      "execution_count": 3,
      "outputs": [
        {
          "output_type": "execute_result",
          "data": {
            "text/plain": [
              "((60000, 10), (10000, 10))"
            ]
          },
          "metadata": {},
          "execution_count": 3
        }
      ]
    },
    {
      "cell_type": "markdown",
      "source": [
        "# **Initializing Weights**"
      ],
      "metadata": {
        "id": "k_sJPtX1UDZV"
      }
    },
    {
      "cell_type": "markdown",
      "source": [
        "***Initialize Network Weights***\n",
        "\n",
        "We define the architecture and initialize weights for our 2-layer neural network.\n",
        "\n",
        "- `input_size = 784` (flattened 28×28 image)\n",
        "- `hidden_size = 128` (number of neurons in the hidden layer)\n",
        "- `output_size = 10` (one for each digit class)\n",
        "\n",
        "Weights (`W1`, `W2`) are initialized with small random values (scaled using He/Glorot initialization), and biases (`b1`, `b2`) are initialized to zeros.\n"
      ],
      "metadata": {
        "id": "zSr0RaONp6rI"
      }
    },
    {
      "cell_type": "code",
      "source": [
        "input_size=784\n",
        "hidden_size=128\n",
        "output_size=10"
      ],
      "metadata": {
        "id": "ACSZ4u4GMOV2"
      },
      "execution_count": 4,
      "outputs": []
    },
    {
      "cell_type": "code",
      "source": [
        "def init_weights(input_size, hidden_size, output_size):\n",
        "  W1 = np.random.randn(input_size, hidden_size) * np.sqrt(1. / input_size)\n",
        "  b1 = np.zeros((1, hidden_size))\n",
        "  W2 = np.random.randn(hidden_size, output_size) * np.sqrt(1. / hidden_size)\n",
        "  b2 = np.zeros((1, output_size))\n",
        "  return W1,b1,W2,b2"
      ],
      "metadata": {
        "id": "-szn7dlyTmrb"
      },
      "execution_count": 5,
      "outputs": []
    },
    {
      "cell_type": "code",
      "source": [
        "init_weights(input_size, hidden_size, output_size)"
      ],
      "metadata": {
        "colab": {
          "base_uri": "https://localhost:8080/"
        },
        "id": "V_yKiI9k9P-7",
        "outputId": "29b0acc5-e223-4eb0-99d1-c2dce5240a1a"
      },
      "execution_count": 6,
      "outputs": [
        {
          "output_type": "execute_result",
          "data": {
            "text/plain": [
              "(array([[-0.01723778, -0.01987831,  0.02531838, ...,  0.02242676,\n",
              "         -0.05218422, -0.03326778],\n",
              "        [-0.03700042, -0.00557473,  0.0216599 , ..., -0.09449718,\n",
              "          0.01020194, -0.00319248],\n",
              "        [ 0.0578491 ,  0.00104854, -0.01595838, ..., -0.01803981,\n",
              "         -0.03717852,  0.02247565],\n",
              "        ...,\n",
              "        [ 0.00764144, -0.0001393 ,  0.01788232, ...,  0.01222665,\n",
              "          0.03816425, -0.04537624],\n",
              "        [ 0.00638423, -0.03234512,  0.0022337 , ..., -0.00996929,\n",
              "         -0.03958532, -0.01561484],\n",
              "        [-0.01063959,  0.03035648, -0.04745029, ..., -0.05524843,\n",
              "          0.01853308,  0.09025922]]),\n",
              " array([[0., 0., 0., 0., 0., 0., 0., 0., 0., 0., 0., 0., 0., 0., 0., 0.,\n",
              "         0., 0., 0., 0., 0., 0., 0., 0., 0., 0., 0., 0., 0., 0., 0., 0.,\n",
              "         0., 0., 0., 0., 0., 0., 0., 0., 0., 0., 0., 0., 0., 0., 0., 0.,\n",
              "         0., 0., 0., 0., 0., 0., 0., 0., 0., 0., 0., 0., 0., 0., 0., 0.,\n",
              "         0., 0., 0., 0., 0., 0., 0., 0., 0., 0., 0., 0., 0., 0., 0., 0.,\n",
              "         0., 0., 0., 0., 0., 0., 0., 0., 0., 0., 0., 0., 0., 0., 0., 0.,\n",
              "         0., 0., 0., 0., 0., 0., 0., 0., 0., 0., 0., 0., 0., 0., 0., 0.,\n",
              "         0., 0., 0., 0., 0., 0., 0., 0., 0., 0., 0., 0., 0., 0., 0., 0.]]),\n",
              " array([[-0.11077118, -0.07083585,  0.15465414, ...,  0.0122697 ,\n",
              "          0.06085116, -0.0142233 ],\n",
              "        [ 0.13543454,  0.00424639,  0.1342145 , ..., -0.07819654,\n",
              "         -0.02454183,  0.03867494],\n",
              "        [-0.02006104, -0.03807798, -0.08371094, ...,  0.03592314,\n",
              "         -0.09507505,  0.14175389],\n",
              "        ...,\n",
              "        [-0.04807998,  0.08459904,  0.01368795, ..., -0.02228588,\n",
              "          0.00288455, -0.05992692],\n",
              "        [-0.01567289, -0.11003061, -0.14074108, ...,  0.07942055,\n",
              "         -0.04483543, -0.01885298],\n",
              "        [ 0.01225157, -0.0786505 ,  0.05529291, ...,  0.02089963,\n",
              "          0.03082684, -0.03350073]]),\n",
              " array([[0., 0., 0., 0., 0., 0., 0., 0., 0., 0.]]))"
            ]
          },
          "metadata": {},
          "execution_count": 6
        }
      ]
    },
    {
      "cell_type": "markdown",
      "source": [
        "# **Defining Activation Functions**"
      ],
      "metadata": {
        "id": "UpjzJPeDYDlZ"
      }
    },
    {
      "cell_type": "markdown",
      "source": [
        "***Activation Functions***\n",
        "\n",
        "We define the activation functions used in our network:\n",
        "\n",
        "- **ReLU (Rectified Linear Unit)**: Applies `max(0, x)` to add non-linearity and avoid vanishing gradients.\n",
        "- **ReLU Derivative**: Used during backpropagation to compute gradients.\n",
        "- **Softmax**: Converts raw output scores into a probability distribution over 10 classes (used in the output layer).\n"
      ],
      "metadata": {
        "id": "b3BONh5-qCtA"
      }
    },
    {
      "cell_type": "code",
      "source": [
        "def relu(x):\n",
        "    return np.maximum(0, x)\n",
        "\n",
        "def relu_derivative(x):\n",
        "    return (x > 0).astype(float)\n",
        "\n",
        "def softmax(x):\n",
        "    shifted_x = x - np.max(x, axis=1, keepdims=True)\n",
        "    exp_x = np.exp(shifted_x)\n",
        "    sum_exp_x = np.sum(exp_x, axis=1, keepdims=True)\n",
        "    return exp_x / sum_exp_x"
      ],
      "metadata": {
        "id": "fGxQM6u4U_1x"
      },
      "execution_count": 7,
      "outputs": []
    },
    {
      "cell_type": "markdown",
      "source": [
        "# **Defining Forward and Backward Passes**"
      ],
      "metadata": {
        "id": "yakw88oIb6H5"
      }
    },
    {
      "cell_type": "markdown",
      "source": [
        "***Forward Propagation***\n",
        "\n",
        "This function computes the forward pass through the network:\n",
        "\n",
        "- `Z1 = X · W1 + b1`: Linear transformation from input to hidden layer\n",
        "- `A1 = ReLU(Z1)`: Apply non-linearity\n",
        "- `Z2 = A1 · W2 + b2`: Linear transformation from hidden to output\n",
        "- `A2 = Softmax(Z2)`: Converts raw scores to class probabilities\n",
        "\n",
        "Returns intermediate outputs needed for backpropagation.\n"
      ],
      "metadata": {
        "id": "87IHZpLIqM6A"
      }
    },
    {
      "cell_type": "code",
      "source": [
        "def forward(W1, b1, W2, b2, X):\n",
        "  Z1 = np.dot(X, W1) + b1\n",
        "  A1 = relu(Z1)\n",
        "  Z2 = np.dot(A1, W2) + b2\n",
        "  A2 = softmax(Z2)\n",
        "  return Z1, A1, Z2, A2"
      ],
      "metadata": {
        "id": "xzKcpVnqH5KG"
      },
      "execution_count": 8,
      "outputs": []
    },
    {
      "cell_type": "markdown",
      "source": [
        "***Backpropagation***\n",
        "\n",
        "This function computes gradients of the loss with respect to all weights and biases:\n",
        "\n",
        "- `dZ2 = A2 - y`: Error at output layer (from Softmax + Cross-Entropy)\n",
        "- `dW2`, `db2`: Gradients for output layer weights and biases\n",
        "- `dZ1`: Propagated error to hidden layer, scaled by ReLU derivative\n",
        "- `dW1`, `db1`: Gradients for hidden layer weights and biases\n",
        "\n",
        "These gradients are used to update the parameters during training.\n"
      ],
      "metadata": {
        "id": "XLrqFnRaqOH_"
      }
    },
    {
      "cell_type": "code",
      "source": [
        "def backward(A1, W1, Z1, A2, W2, Z2, X, y):\n",
        "  m = X.shape[0]\n",
        "  dZ2 = A2 - y\n",
        "  dW2 = np.dot(A1.T, dZ2) / m\n",
        "  db2 = np.sum(dZ2, axis=0, keepdims=True) / m\n",
        "  dZ1 = np.dot(dZ2, W2.T) * relu_derivative(Z1)\n",
        "  dW1 = np.dot(X.T, dZ1) / m\n",
        "  db1 = np.sum(dZ1, axis=0, keepdims=True) / m\n",
        "  return dW1, db1, dW2, db2"
      ],
      "metadata": {
        "id": "2ohYBuwmJS3o"
      },
      "execution_count": 9,
      "outputs": []
    },
    {
      "cell_type": "markdown",
      "source": [
        "***Update Weights (Gradient Descent)***\n",
        "\n",
        "We update the weights and biases using **gradient descent**:\n",
        "\n",
        "- Subtract a small fraction (`learning_rate`) of the gradient from each parameter\n",
        "- This helps the model minimize the loss in the next iteration\n",
        "\n",
        "Formula:  \n",
        "`parameter = parameter - learning_rate × gradient`\n"
      ],
      "metadata": {
        "id": "mVWFk9lpqb9w"
      }
    },
    {
      "cell_type": "code",
      "source": [
        "def update_weights(W1, b1, W2, b2, dW1, db1, dW2, db2, lr):\n",
        "  W1 -= lr * dW1\n",
        "  b1 -= lr * db1\n",
        "  W2 -= lr * dW2\n",
        "  b2 -= lr * db2\n",
        "  return W1, b1, W2, b2"
      ],
      "metadata": {
        "id": "ZDeL-MW6KFpy"
      },
      "execution_count": 10,
      "outputs": []
    },
    {
      "cell_type": "markdown",
      "source": [
        "# **Defining Accuracy Functions**"
      ],
      "metadata": {
        "id": "Dy73vG8qO-Ly"
      }
    },
    {
      "cell_type": "markdown",
      "source": [
        "***Predictions and Accuracy***\n",
        "\n",
        "- `get_predictions(A2)`: Returns the index of the highest probability for each sample (i.e., predicted class)\n",
        "- `accuracy(predictions, y)`: Compares predictions with true labels and computes the overall accuracy\n"
      ],
      "metadata": {
        "id": "6K_iABU1qgfY"
      }
    },
    {
      "cell_type": "code",
      "source": [
        "def get_predictions(A2):\n",
        "  return np.argmax(A2, axis=1)\n",
        "\n",
        "def accuracy(predictions, y):\n",
        "  return np.mean(predictions == np.argmax(y, axis=1))"
      ],
      "metadata": {
        "id": "2yhb4HQrLKoM"
      },
      "execution_count": 11,
      "outputs": []
    },
    {
      "cell_type": "markdown",
      "source": [
        "# **Train Our Network**"
      ],
      "metadata": {
        "id": "Z-PHJz9Vloe-"
      }
    },
    {
      "cell_type": "markdown",
      "source": [
        "***Training Loop***\n",
        "\n",
        "This function trains the neural network over multiple epochs:\n",
        "\n",
        "- Performs **forward pass**, **backpropagation**, and **weight updates**\n",
        "- Prints accuracy every 10 epochs to monitor progress\n",
        "- Returns the final trained weights and biases\n",
        "\n",
        "Arguments:\n",
        "- `X`: input data  \n",
        "- `y`: one-hot encoded labels  \n",
        "- `epochs`: number of training cycles  \n",
        "- `lr`: learning rate for gradient descent\n"
      ],
      "metadata": {
        "id": "3D4tUO-6qpRC"
      }
    },
    {
      "cell_type": "code",
      "source": [
        "def train(X, y, epochs, lr):\n",
        "  W1, b1, W2, b2 = init_weights(input_size, hidden_size, output_size)\n",
        "  for epoch in range(epochs):\n",
        "\n",
        "    Z1, A1, Z2, A2 = forward(W1, b1, W2, b2, X)\n",
        "    dW1, db1, dW2, db2 = backward(A1, W1, Z1, A2, W2, Z2, X, y)\n",
        "    W1, b1, W2, b2 = update_weights(W1, b1, W2, b2, dW1, db1, dW2, db2, lr)\n",
        "    if epoch%10==0:\n",
        "      print(\"Epoch: \",epoch)\n",
        "      print(\"Accuracy: \",accuracy(get_predictions(A2), y))\n",
        "  return W1, b1, W2, b2"
      ],
      "metadata": {
        "id": "LzkLGmIFlvmB"
      },
      "execution_count": 12,
      "outputs": []
    },
    {
      "cell_type": "code",
      "source": [
        "W1, b1, W2, b2 = train(X_train, y_train_oh, 500, 0.01)"
      ],
      "metadata": {
        "id": "-veK44eNj-Nq",
        "colab": {
          "base_uri": "https://localhost:8080/"
        },
        "outputId": "734c8964-d42a-44ef-de42-08ceb71289a7"
      },
      "execution_count": 13,
      "outputs": [
        {
          "output_type": "stream",
          "name": "stdout",
          "text": [
            "Epoch:  0\n",
            "Accuracy:  0.0906\n",
            "Epoch:  10\n",
            "Accuracy:  0.1603\n",
            "Epoch:  20\n",
            "Accuracy:  0.25738333333333335\n",
            "Epoch:  30\n",
            "Accuracy:  0.33535\n",
            "Epoch:  40\n",
            "Accuracy:  0.3874666666666667\n",
            "Epoch:  50\n",
            "Accuracy:  0.4320833333333333\n",
            "Epoch:  60\n",
            "Accuracy:  0.47613333333333335\n",
            "Epoch:  70\n",
            "Accuracy:  0.51555\n",
            "Epoch:  80\n",
            "Accuracy:  0.5535166666666667\n",
            "Epoch:  90\n",
            "Accuracy:  0.5867666666666667\n",
            "Epoch:  100\n",
            "Accuracy:  0.61385\n",
            "Epoch:  110\n",
            "Accuracy:  0.6367666666666667\n",
            "Epoch:  120\n",
            "Accuracy:  0.6551166666666667\n",
            "Epoch:  130\n",
            "Accuracy:  0.66945\n",
            "Epoch:  140\n",
            "Accuracy:  0.6815833333333333\n",
            "Epoch:  150\n",
            "Accuracy:  0.6921166666666667\n",
            "Epoch:  160\n",
            "Accuracy:  0.7019\n",
            "Epoch:  170\n",
            "Accuracy:  0.71105\n",
            "Epoch:  180\n",
            "Accuracy:  0.7194833333333334\n",
            "Epoch:  190\n",
            "Accuracy:  0.72775\n",
            "Epoch:  200\n",
            "Accuracy:  0.7346833333333334\n",
            "Epoch:  210\n",
            "Accuracy:  0.7417333333333334\n",
            "Epoch:  220\n",
            "Accuracy:  0.7481666666666666\n",
            "Epoch:  230\n",
            "Accuracy:  0.7543333333333333\n",
            "Epoch:  240\n",
            "Accuracy:  0.7599166666666667\n",
            "Epoch:  250\n",
            "Accuracy:  0.7655333333333333\n",
            "Epoch:  260\n",
            "Accuracy:  0.7710833333333333\n",
            "Epoch:  270\n",
            "Accuracy:  0.7760166666666667\n",
            "Epoch:  280\n",
            "Accuracy:  0.7806333333333333\n",
            "Epoch:  290\n",
            "Accuracy:  0.7854166666666667\n",
            "Epoch:  300\n",
            "Accuracy:  0.7898333333333334\n",
            "Epoch:  310\n",
            "Accuracy:  0.7938666666666667\n",
            "Epoch:  320\n",
            "Accuracy:  0.7978\n",
            "Epoch:  330\n",
            "Accuracy:  0.8014333333333333\n",
            "Epoch:  340\n",
            "Accuracy:  0.8046\n",
            "Epoch:  350\n",
            "Accuracy:  0.808\n",
            "Epoch:  360\n",
            "Accuracy:  0.81115\n",
            "Epoch:  370\n",
            "Accuracy:  0.8134833333333333\n",
            "Epoch:  380\n",
            "Accuracy:  0.8159666666666666\n",
            "Epoch:  390\n",
            "Accuracy:  0.8183\n",
            "Epoch:  400\n",
            "Accuracy:  0.82065\n",
            "Epoch:  410\n",
            "Accuracy:  0.8224833333333333\n",
            "Epoch:  420\n",
            "Accuracy:  0.82475\n",
            "Epoch:  430\n",
            "Accuracy:  0.8266333333333333\n",
            "Epoch:  440\n",
            "Accuracy:  0.8285333333333333\n",
            "Epoch:  450\n",
            "Accuracy:  0.8302333333333334\n",
            "Epoch:  460\n",
            "Accuracy:  0.8317166666666667\n",
            "Epoch:  470\n",
            "Accuracy:  0.8331833333333334\n",
            "Epoch:  480\n",
            "Accuracy:  0.8348166666666667\n",
            "Epoch:  490\n",
            "Accuracy:  0.8366666666666667\n"
          ]
        }
      ]
    },
    {
      "cell_type": "markdown",
      "source": [
        "# **Test Our Network**"
      ],
      "metadata": {
        "id": "uI0qHhIO-n8K"
      }
    },
    {
      "cell_type": "markdown",
      "source": [
        "***Make Predictions***\n",
        "\n",
        "This function uses the trained weights to make predictions on new input data:\n",
        "\n",
        "- Performs a **forward pass** to compute output probabilities\n",
        "- Uses `get_predictions()` to select the class with the highest probability\n",
        "\n",
        "Returns predicted class labels for each input sample.\n"
      ],
      "metadata": {
        "id": "eOgwpwxqqwO3"
      }
    },
    {
      "cell_type": "code",
      "source": [
        "def make_predictions(X, W1, b1, W2, b2):\n",
        "  _, _, _, A2 = forward(W1, b1, W2, b2, X)\n",
        "  predictions = get_predictions(A2)\n",
        "  return predictions\n"
      ],
      "metadata": {
        "id": "oQsFhAf697Ra"
      },
      "execution_count": 14,
      "outputs": []
    },
    {
      "cell_type": "code",
      "source": [
        "test_predictions = make_predictions(X_test, W1, b1, W2, b2)\n",
        "print(\"Test accuracy: \",accuracy(test_predictions, y_test_oh))"
      ],
      "metadata": {
        "colab": {
          "base_uri": "https://localhost:8080/"
        },
        "id": "dEvbsrQA-SH2",
        "outputId": "035ea560-e0a4-4632-e609-b3deb5c8e8f4"
      },
      "execution_count": 15,
      "outputs": [
        {
          "output_type": "stream",
          "name": "stdout",
          "text": [
            "Test accuracy:  0.8466\n"
          ]
        }
      ]
    },
    {
      "cell_type": "code",
      "source": [
        "def show_sample_predictions(X, y_true, y_pred, count=10):\n",
        "    plt.figure(figsize=(15, 4))\n",
        "    for i in range(count):\n",
        "        plt.subplot(1, count, i + 1)\n",
        "        plt.imshow(X[i].reshape(28, 28), cmap='gray')\n",
        "        plt.title(f\"Pred: {y_pred[i]}\\nTrue: {y_true[i]}\",\n",
        "                  color='green' if y_pred[i] == y_true[i] else 'red')\n",
        "        plt.axis('off')\n",
        "    plt.suptitle(\"Sample Predictions\", fontsize=14)\n",
        "    plt.show()\n",
        "\n",
        "preds = make_predictions(X_test, W1, b1, W2, b2)\n",
        "show_sample_predictions(X_test, y_test, preds)\n"
      ],
      "metadata": {
        "colab": {
          "base_uri": "https://localhost:8080/",
          "height": 280
        },
        "id": "7B7bCrOt-mKn",
        "outputId": "e28df8fc-3229-4938-ab35-67bfe621a629"
      },
      "execution_count": 16,
      "outputs": [
        {
          "output_type": "display_data",
          "data": {
            "text/plain": [
              "<Figure size 1500x400 with 10 Axes>"
            ],
            "image/png": "[encoded data removed]"
          },
          "metadata": {}
        }
      ]
    },
    {
      "cell_type": "code",
      "source": [],
      "metadata": {
        "id": "_o9Y25lItaCB"
      },
      "execution_count": null,
      "outputs": []
    }
  ]
}